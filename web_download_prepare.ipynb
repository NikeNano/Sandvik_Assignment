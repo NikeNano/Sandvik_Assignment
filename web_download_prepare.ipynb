{
 "cells": [
  {
   "cell_type": "code",
   "execution_count": 52,
   "metadata": {},
   "outputs": [],
   "source": [
    "import wget\n",
    "import urllib.parse\n",
    "import os\n",
    "import requests\n",
    "import tarfile\n",
    "import warnings\n",
    "import regex\n",
    "import yaml\n",
    "\n",
    "import pandas as pd\n",
    "\n",
    "from tqdm import tqdm\n",
    "from lxml import html\n",
    "\n",
    "pd.set_option('display.max_colwidth', -1)\n",
    "pd.set_option('display.max_columns', 500)"
   ]
  },
  {
   "cell_type": "markdown",
   "metadata": {},
   "source": [
    "# Webscraping"
   ]
  },
  {
   "cell_type": "markdown",
   "metadata": {},
   "source": [
    "## Get URLS"
   ]
  },
  {
   "cell_type": "code",
   "execution_count": 12,
   "metadata": {},
   "outputs": [],
   "source": [
    "def webscrapping_tar(page=\"http://www.repository.voxforge1.org/downloads/SpeechCorpus/Trunk/Audio/Main/16kHz_16bit/\"):\n",
    "    \"\"\"Web scraping\n",
    "    1. Get url to all href elements\n",
    "    2. Check if it is a .tgz file\n",
    "    3  Return list with the urls\n",
    "    \"\"\"\n",
    "    page = requests.get(page)\n",
    "    webpage = html.fromstring(page.content)\n",
    "    files=[]\n",
    "    for element in webpage.xpath('//a/@href'):\n",
    "        if \".tgz\" in element:\n",
    "            files.append(element)\n",
    "    return files\n",
    "files = webscrapping_tar()"
   ]
  },
  {
   "cell_type": "code",
   "execution_count": 13,
   "metadata": {},
   "outputs": [
    {
     "name": "stdout",
     "output_type": "stream",
     "text": [
      "The number of files is 6244\n"
     ]
    }
   ],
   "source": [
    "print(\"The number of files is {}\".format(len(files)))"
   ]
  },
  {
   "cell_type": "code",
   "execution_count": 17,
   "metadata": {},
   "outputs": [],
   "source": [
    "# create the data folder\n",
    "#! mkdir data"
   ]
  },
  {
   "cell_type": "markdown",
   "metadata": {},
   "source": [
    "# Download files"
   ]
  },
  {
   "cell_type": "code",
   "execution_count": 19,
   "metadata": {},
   "outputs": [
    {
     "name": "stderr",
     "output_type": "stream",
     "text": [
      "100%|██████████| 6244/6244 [1:59:24<00:00,  1.15s/it]\n"
     ]
    }
   ],
   "source": [
    "def download_tar(save_in_folder=\"data\",list_urls=None,base_url=\"http://www.repository.voxforge1.org/downloads/SpeechCorpus/Trunk/Audio/Main/16kHz_16bit/\"):\n",
    "    \"\"\" Function to download files\n",
    "    1. Gets list with the URLS\n",
    "    2. Downloads all the files\n",
    "    3. Stores the .tgz files in the folder data\n",
    "    \"\"\"\n",
    "    for url in tqdm(list_urls):\n",
    "        url_file = url\n",
    "        url=urllib.parse.urljoin(base_url, url_file)\n",
    "        path_file = os.path.join(\"data\",url_file)\n",
    "        wget.download(url, path_file)\n",
    "    \n",
    "download_tar(list_urls=files)"
   ]
  },
  {
   "cell_type": "markdown",
   "metadata": {},
   "source": [
    "## Unzip files"
   ]
  },
  {
   "cell_type": "code",
   "execution_count": 20,
   "metadata": {},
   "outputs": [],
   "source": [
    "def extract_file(fname=None, destination=\"extracted_data/\"):\n",
    "    \"\"\" Function to unzip a folder\n",
    "    1. Get folder name and checks type\n",
    "    2. Returns warning if the format is not supported\n",
    "    3. The unzipe data is passed to the folder extracted_data\n",
    "    \"\"\"\n",
    "    if (fname.endswith(\"tar.gz\") or fname.endswith(\"tgz\")):\n",
    "        tar = tarfile.open(fname, \"r:gz\")\n",
    "        tar.extractall(path=destination)\n",
    "        tar.close()\n",
    "    elif (fname.endswith(\"tar\")):\n",
    "        # dont use in this case but keept it\n",
    "        tar = tarfile.open(fname, \"r:\")\n",
    "        tar.extractall(path=destination)\n",
    "        tar.close()\n",
    "    else:\n",
    "        warnings.warn(\"The file was not extracted, problem with file format for file {}\".format(fname))\n",
    "#extract_file(\"data/1028-20100710-hne.tgz\")"
   ]
  },
  {
   "cell_type": "code",
   "execution_count": 21,
   "metadata": {},
   "outputs": [
    {
     "name": "stderr",
     "output_type": "stream",
     "text": [
      "100%|██████████| 6244/6244 [05:37<00:00, 18.52it/s]\n"
     ]
    }
   ],
   "source": [
    "def extract_all_files(folder=\"data\"):\n",
    "    \"\"\" Function that loops over all folder in a folder and unzips them\n",
    "    1. Checks for folder in a folder\n",
    "    2. Unzips all the folders\n",
    "    \"\"\"\n",
    "    dirs= os.listdir(folder)\n",
    "    for tar in tqdm(dirs):\n",
    "        path = os.path.join(folder,tar)\n",
    "        extract_file(path)\n",
    "extract_all_files()"
   ]
  },
  {
   "cell_type": "markdown",
   "metadata": {},
   "source": [
    "## Validate the number of files"
   ]
  },
  {
   "cell_type": "code",
   "execution_count": 85,
   "metadata": {},
   "outputs": [
    {
     "name": "stdout",
     "output_type": "stream",
     "text": [
      "      1 .prompt\r\n",
      "      1 .prompts\r\n",
      "      1 .wav-bak\r\n",
      "      1 .wav-omit\r\n",
      "      1 .wav-skip\r\n",
      "      2 .text\r\n",
      "      2 .wav-split\r\n",
      "      7 .wav-original\r\n",
      "   5704 .txt\r\n",
      "   8825 .flac\r\n",
      "  86656 .wav\r\n"
     ]
    }
   ],
   "source": [
    "!(cd extracted_data && find . -type f -printf '%f\\n' | sed -r -n 's/.+(\\..*)$/\\1/p' | sort | uniq -c | sort -bn)\n"
   ]
  },
  {
   "cell_type": "markdown",
   "metadata": {},
   "source": [
    "Based upon the state information in the assignment it was assumed to be 62,440 audio samples. However there are at least more recodrings than that avilable. Further investigateion is needed later on. "
   ]
  },
  {
   "cell_type": "markdown",
   "metadata": {},
   "source": [
    "# Extract the text"
   ]
  },
  {
   "cell_type": "code",
   "execution_count": 39,
   "metadata": {},
   "outputs": [],
   "source": [
    "\n",
    "def extract_text_info(path):\n",
    "    \"\"\" Function to extract the infomration from the text files\n",
    "    1. Opens text file\n",
    "    2. Using regex(fuzzy) checks for the features of interest: gender,age_group,dialect,language\n",
    "    3. Returns the extracted data as a dict\n",
    "    \"\"\"\n",
    "    text_file = open(path, \"r\")\n",
    "    lines = text_file.readlines()\n",
    "    regex_expressions = yaml.load(open('extract.yaml'))\n",
    "    respons=dict()\n",
    "    # If I cant find it in the text i want to return None for the key\n",
    "    respons['Gender']=None\n",
    "    respons['Age_Range']=None\n",
    "    respons['Language']=None\n",
    "    respons['Dialect']=None\n",
    "    for field, value in regex_expressions.items():\n",
    "        for line in lines: \n",
    "            match=regex.search(regex_expressions.get(field).get('key'),line)\n",
    "            if match:      \n",
    "                respons[field]=match.group(1)\n",
    "    return respons\n",
    "#path = \"/Users/Niklas/Documents/test/extracted_data/1028-20100710-hne/etc/README\"\n",
    "#extract_text_info(path)"
   ]
  },
  {
   "cell_type": "markdown",
   "metadata": {},
   "source": [
    "# Extract info from all the unziped files\n"
   ]
  },
  {
   "cell_type": "code",
   "execution_count": 43,
   "metadata": {
    "scrolled": true
   },
   "outputs": [
    {
     "name": "stderr",
     "output_type": "stream",
     "text": [
      "  1%|▏         | 86/6244 [00:00<00:14, 423.64it/s]"
     ]
    },
    {
     "name": "stdout",
     "output_type": "stream",
     "text": [
      "Missing sound files for /home/niklas_sven_hansson/test/extracted_data/ralfherzog-20080203-en51/wav\n",
      "Missing sound files for /home/niklas_sven_hansson/test/extracted_data/bjb-20120204/wav\n",
      "Missing sound files for /home/niklas_sven_hansson/test/extracted_data/ralfherzog-20080312-en59/wav\n"
     ]
    },
    {
     "name": "stderr",
     "output_type": "stream",
     "text": [
      "  3%|▎         | 218/6244 [00:00<00:14, 429.25it/s]"
     ]
    },
    {
     "name": "stdout",
     "output_type": "stream",
     "text": [
      "Missing sound files for /home/niklas_sven_hansson/test/extracted_data/ralfherzog-20070923-en8/wav\n",
      "Missing label for file /home/niklas_sven_hansson/test/extracted_data/jaiger-12032006-6/etc/README\n"
     ]
    },
    {
     "name": "stderr",
     "output_type": "stream",
     "text": [
      "  5%|▌         | 342/6244 [00:00<00:14, 420.76it/s]"
     ]
    },
    {
     "name": "stdout",
     "output_type": "stream",
     "text": [
      "Missing sound files for /home/niklas_sven_hansson/test/extracted_data/ralfherzog-20071120-en18/wav\n",
      "Missing sound files for /home/niklas_sven_hansson/test/extracted_data/ralfherzog-20071201-en27/wav\n"
     ]
    },
    {
     "name": "stderr",
     "output_type": "stream",
     "text": [
      "  7%|▋         | 427/6244 [00:01<00:13, 420.82it/s]"
     ]
    },
    {
     "name": "stdout",
     "output_type": "stream",
     "text": [
      "Missing sound files for /home/niklas_sven_hansson/test/extracted_data/ralfherzog-20071215-en39/wav\n",
      "Missing sound files for /home/niklas_sven_hansson/test/extracted_data/bjb-20120318/wav\n"
     ]
    },
    {
     "name": "stderr",
     "output_type": "stream",
     "text": [
      " 11%|█         | 689/6244 [00:01<00:13, 424.46it/s]"
     ]
    },
    {
     "name": "stdout",
     "output_type": "stream",
     "text": [
      "Missing sound files for /home/niklas_sven_hansson/test/extracted_data/propagationofsound-20100111-cc/wav\n",
      "Missing sound files for /home/niklas_sven_hansson/test/extracted_data/ralfherzog-20071118-en17/wav\n",
      "Missing sound files for /home/niklas_sven_hansson/test/extracted_data/devin122-20080522-ar/wav\n"
     ]
    },
    {
     "name": "stderr",
     "output_type": "stream",
     "text": [
      " 13%|█▎        | 821/6244 [00:01<00:12, 424.67it/s]"
     ]
    },
    {
     "name": "stdout",
     "output_type": "stream",
     "text": [
      "Missing sound files for /home/niklas_sven_hansson/test/extracted_data/bjb-20120309/wav\n",
      "Missing sound files for /home/niklas_sven_hansson/test/extracted_data/bjb-20120205/wav\n",
      "Missing sound files for /home/niklas_sven_hansson/test/extracted_data/ralfherzog-20071208-en33/wav\n",
      "Missing sound files for /home/niklas_sven_hansson/test/extracted_data/ralfherzog-20080108-en43/wav\n"
     ]
    },
    {
     "name": "stderr",
     "output_type": "stream",
     "text": [
      " 15%|█▌        | 953/6244 [00:02<00:12, 425.70it/s]"
     ]
    },
    {
     "name": "stdout",
     "output_type": "stream",
     "text": [
      "Missing sound files for /home/niklas_sven_hansson/test/extracted_data/ralfherzog-20070914-en5/wav\n",
      "Missing sound files for /home/niklas_sven_hansson/test/extracted_data/propagationofsound-20100112-ar/wav\n",
      "Missing sound files for /home/niklas_sven_hansson/test/extracted_data/ralfherzog-20070823_vf20/wav\n",
      "Missing sound files for /home/niklas_sven_hansson/test/extracted_data/ralfherog-20070918-en7/wav\n"
     ]
    },
    {
     "name": "stderr",
     "output_type": "stream",
     "text": [
      " 17%|█▋        | 1041/6244 [00:02<00:12, 426.18it/s]"
     ]
    },
    {
     "name": "stdout",
     "output_type": "stream",
     "text": [
      "Missing sound files for /home/niklas_sven_hansson/test/extracted_data/ralfherzog-20080308-en55/wav\n",
      "Missing sound files for /home/niklas_sven_hansson/test/extracted_data/ralfherzog-20071126-en22/wav\n",
      "Missing sound files for /home/niklas_sven_hansson/test/extracted_data/ralfherzog-20071207-en32/wav\n",
      "Missing sound files for /home/niklas_sven_hansson/test/extracted_data/LunaTick-20080410-vf6/wav\n",
      "Missing sound files for /home/niklas_sven_hansson/test/extracted_data/ralfherzog-20071206-en31/wav\n"
     ]
    },
    {
     "name": "stderr",
     "output_type": "stream",
     "text": [
      " 18%|█▊        | 1129/6244 [00:02<00:11, 426.45it/s]"
     ]
    },
    {
     "name": "stdout",
     "output_type": "stream",
     "text": [
      "Missing sound files for /home/niklas_sven_hansson/test/extracted_data/bjb-20120226/wav\n",
      "Missing sound files for /home/niklas_sven_hansson/test/extracted_data/ralfherzog-20080111-en46/wav\n",
      "Missing sound files for /home/niklas_sven_hansson/test/extracted_data/ralfherzog-20071126-en25/wav\n",
      "Missing sound files for /home/niklas_sven_hansson/test/extracted_data/ralfherzog-20070826_vf23/wav\n"
     ]
    },
    {
     "name": "stderr",
     "output_type": "stream",
     "text": [
      " 20%|██        | 1262/6244 [00:02<00:11, 427.06it/s]"
     ]
    },
    {
     "name": "stdout",
     "output_type": "stream",
     "text": [
      "Missing sound files for /home/niklas_sven_hansson/test/extracted_data/ralfherzog-20071210-en35/wav\n",
      "Missing sound files for /home/niklas_sven_hansson/test/extracted_data/bjb-20120409-2/wav\n",
      "Missing label for file /home/niklas_sven_hansson/test/extracted_data/cmu_com_kal_ldom/etc/README\n",
      "Missing sound files for /home/niklas_sven_hansson/test/extracted_data/ralfherzog-20070913-vf27/wav\n"
     ]
    },
    {
     "name": "stderr",
     "output_type": "stream",
     "text": [
      " 22%|██▏       | 1395/6244 [00:03<00:11, 427.93it/s]"
     ]
    },
    {
     "name": "stdout",
     "output_type": "stream",
     "text": [
      "Missing sound files for /home/niklas_sven_hansson/test/extracted_data/bjb-20120304/wav\n",
      "Missing sound files for /home/niklas_sven_hansson/test/extracted_data/bjb-20120210/wav\n"
     ]
    },
    {
     "name": "stderr",
     "output_type": "stream",
     "text": [
      " 24%|██▍       | 1526/6244 [00:03<00:11, 427.43it/s]"
     ]
    },
    {
     "name": "stdout",
     "output_type": "stream",
     "text": [
      "Missing sound files for /home/niklas_sven_hansson/test/extracted_data/bjb-20120127/wav\n",
      "Missing sound files for /home/niklas_sven_hansson/test/extracted_data/ralfherzog-20080313-en60/wav\n",
      "Missing sound files for /home/niklas_sven_hansson/test/extracted_data/ralfherzog-20080315-en61/wav\n"
     ]
    },
    {
     "name": "stderr",
     "output_type": "stream",
     "text": [
      " 27%|██▋       | 1698/6244 [00:03<00:10, 427.13it/s]"
     ]
    },
    {
     "name": "stdout",
     "output_type": "stream",
     "text": [
      "Missing sound files for /home/niklas_sven_hansson/test/extracted_data/bjb-20120219/wav\n",
      "Missing sound files for /home/niklas_sven_hansson/test/extracted_data/ralfherzog-20071212-en37/wav\n",
      "Missing sound files for /home/niklas_sven_hansson/test/extracted_data/ralfherzog-20071206-en30/wav\n"
     ]
    },
    {
     "name": "stderr",
     "output_type": "stream",
     "text": [
      " 30%|██▉       | 1873/6244 [00:04<00:10, 427.44it/s]"
     ]
    },
    {
     "name": "stdout",
     "output_type": "stream",
     "text": [
      "Missing sound files for /home/niklas_sven_hansson/test/extracted_data/ralfherzog-20071124-en20/wav\n",
      "Missing label for file /home/niklas_sven_hansson/test/extracted_data/cmu_us_slt_arctic/etc/README\n",
      "Missing sound files for /home/niklas_sven_hansson/test/extracted_data/bjb-20120324/wav\n"
     ]
    },
    {
     "name": "stderr",
     "output_type": "stream",
     "text": [
      " 34%|███▍      | 2134/6244 [00:04<00:09, 427.05it/s]"
     ]
    },
    {
     "name": "stdout",
     "output_type": "stream",
     "text": [
      "Missing sound files for /home/niklas_sven_hansson/test/extracted_data/bjb-20120225/wav\n",
      "Missing sound files for /home/niklas_sven_hansson/test/extracted_data/LunaTick-20080329-vf2/wav\n",
      "Missing sound files for /home/niklas_sven_hansson/test/extracted_data/ralfherzog-20071217-en41/wav\n"
     ]
    },
    {
     "name": "stderr",
     "output_type": "stream",
     "text": [
      " 36%|███▌      | 2220/6244 [00:05<00:09, 425.79it/s]"
     ]
    },
    {
     "name": "stdout",
     "output_type": "stream",
     "text": [
      "Missing sound files for /home/niklas_sven_hansson/test/extracted_data/benkay-20090111-ar/wav\n",
      "Missing sound files for /home/niklas_sven_hansson/test/extracted_data/bjb-20120311/wav\n",
      "Missing sound files for /home/niklas_sven_hansson/test/extracted_data/ralfherzog-20071028-en15/wav\n",
      "Missing sound files for /home/niklas_sven_hansson/test/extracted_data/bjb-20120122/wav\n"
     ]
    },
    {
     "name": "stderr",
     "output_type": "stream",
     "text": [
      " 38%|███▊      | 2392/6244 [00:05<00:09, 425.63it/s]"
     ]
    },
    {
     "name": "stdout",
     "output_type": "stream",
     "text": [
      "Missing sound files for /home/niklas_sven_hansson/test/extracted_data/bjb-20120330/wav\n",
      "Missing sound files for /home/niklas_sven_hansson/test/extracted_data/propagationofsound-20100112-rp/wav\n"
     ]
    },
    {
     "name": "stderr",
     "output_type": "stream",
     "text": [
      " 40%|████      | 2521/6244 [00:05<00:08, 425.50it/s]"
     ]
    },
    {
     "name": "stdout",
     "output_type": "stream",
     "text": [
      "Missing sound files for /home/niklas_sven_hansson/test/extracted_data/LunaTick-20080402-vf3/wav\n",
      "Missing label for file /home/niklas_sven_hansson/test/extracted_data/jaiger-12032006-5/etc/README\n",
      "Missing sound files for /home/niklas_sven_hansson/test/extracted_data/bjb-20120302/wav\n",
      "Missing sound files for /home/niklas_sven_hansson/test/extracted_data/ralfherzog-20071010-en12/wav\n"
     ]
    },
    {
     "name": "stderr",
     "output_type": "stream",
     "text": [
      " 42%|████▏     | 2606/6244 [00:06<00:08, 425.10it/s]"
     ]
    },
    {
     "name": "stdout",
     "output_type": "stream",
     "text": [
      "Missing sound files for /home/niklas_sven_hansson/test/extracted_data/ralfherzog-20071125-en21/wav\n",
      "Missing sound files for /home/niklas_sven_hansson/test/extracted_data/ralfherzog-20080110-en45/wav\n",
      "Missing sound files for /home/niklas_sven_hansson/test/extracted_data/ralfherzog-20071126-en23/wav\n",
      "Missing sound files for /home/niklas_sven_hansson/test/extracted_data/ralfherzog-20080113-en48/wav\n"
     ]
    },
    {
     "name": "stderr",
     "output_type": "stream",
     "text": [
      " 44%|████▍     | 2735/6244 [00:06<00:08, 425.09it/s]"
     ]
    },
    {
     "name": "stdout",
     "output_type": "stream",
     "text": [
      "Missing sound files for /home/niklas_sven_hansson/test/extracted_data/ralfherzog-20080310-en57/wav\n"
     ]
    },
    {
     "name": "stderr",
     "output_type": "stream",
     "text": [
      " 45%|████▌     | 2823/6244 [00:06<00:08, 425.30it/s]"
     ]
    },
    {
     "name": "stdout",
     "output_type": "stream",
     "text": [
      "Missing sound files for /home/niklas_sven_hansson/test/extracted_data/ralfherzog-20070824_vf21/wav\n"
     ]
    },
    {
     "name": "stderr",
     "output_type": "stream",
     "text": [
      " 47%|████▋     | 2953/6244 [00:06<00:07, 425.42it/s]"
     ]
    },
    {
     "name": "stdout",
     "output_type": "stream",
     "text": [
      "Missing sound files for /home/niklas_sven_hansson/test/extracted_data/LunaTick-20080410-vf4/wav\n",
      "Missing sound files for /home/niklas_sven_hansson/test/extracted_data/ralfherzog-20071007-en11/wav\n"
     ]
    },
    {
     "name": "stderr",
     "output_type": "stream",
     "text": [
      " 49%|████▉     | 3084/6244 [00:07<00:07, 425.57it/s]"
     ]
    },
    {
     "name": "stdout",
     "output_type": "stream",
     "text": [
      "Missing sound files for /home/niklas_sven_hansson/test/extracted_data/ralfherzog-20070911-en4/wav\n",
      "Missing sound files for /home/niklas_sven_hansson/test/extracted_data/ralfherzog-20071014-en14/wav\n",
      "Missing sound files for /home/niklas_sven_hansson/test/extracted_data/bjb-20120317/wav\n",
      "Missing sound files for /home/niklas_sven_hansson/test/extracted_data/ralfherzog-20080109-en44/wav\n"
     ]
    },
    {
     "name": "stderr",
     "output_type": "stream",
     "text": [
      " 51%|█████     | 3171/6244 [00:07<00:07, 425.00it/s]"
     ]
    },
    {
     "name": "stdout",
     "output_type": "stream",
     "text": [
      "Missing sound files for /home/niklas_sven_hansson/test/extracted_data/bjb-20120217/wav\n",
      "Missing sound files for /home/niklas_sven_hansson/test/extracted_data/ralfherzog-20071216-en40/wav\n",
      "Missing sound files for /home/niklas_sven_hansson/test/extracted_data/bjb-20120323/wav\n",
      "Missing sound files for /home/niklas_sven_hansson/test/extracted_data/ralfherzog-20080112-en47/wav\n"
     ]
    },
    {
     "name": "stderr",
     "output_type": "stream",
     "text": [
      " 53%|█████▎    | 3303/6244 [00:07<00:06, 425.01it/s]"
     ]
    },
    {
     "name": "stdout",
     "output_type": "stream",
     "text": [
      "Missing sound files for /home/niklas_sven_hansson/test/extracted_data/ralfherzog-20080204-en54/wav\n"
     ]
    },
    {
     "name": "stderr",
     "output_type": "stream",
     "text": [
      " 54%|█████▍    | 3390/6244 [00:07<00:06, 425.10it/s]"
     ]
    },
    {
     "name": "stdout",
     "output_type": "stream",
     "text": [
      "Missing sound files for /home/niklas_sven_hansson/test/extracted_data/ralfherzog-20071013-en13/wav\n",
      "Missing sound files for /home/niklas_sven_hansson/test/extracted_data/ralfherzog-20070924-en9/wav\n"
     ]
    },
    {
     "name": "stderr",
     "output_type": "stream",
     "text": [
      " 57%|█████▋    | 3569/6244 [00:08<00:06, 425.82it/s]"
     ]
    },
    {
     "name": "stdout",
     "output_type": "stream",
     "text": [
      "Missing sound files for /home/niklas_sven_hansson/test/extracted_data/jooles-20080826/wav\n"
     ]
    },
    {
     "name": "stderr",
     "output_type": "stream",
     "text": [
      " 59%|█████▊    | 3656/6244 [00:08<00:06, 425.63it/s]"
     ]
    },
    {
     "name": "stdout",
     "output_type": "stream",
     "text": [
      "Missing sound files for /home/niklas_sven_hansson/test/extracted_data/ralfherzog-20080316-en62/wav\n",
      "Missing sound files for /home/niklas_sven_hansson/test/extracted_data/ralfherzog-20070825_vf22/wav\n",
      "Missing sound files for /home/niklas_sven_hansson/test/extracted_data/ralfherzog-20070910-en3/wav\n",
      "Missing sound files for /home/niklas_sven_hansson/test/extracted_data/benkay-20090111-rp/wav\n"
     ]
    },
    {
     "name": "stderr",
     "output_type": "stream",
     "text": [
      " 63%|██████▎   | 3918/6244 [00:09<00:05, 424.77it/s]"
     ]
    },
    {
     "name": "stdout",
     "output_type": "stream",
     "text": [
      "Missing sound files for /home/niklas_sven_hansson/test/extracted_data/bjb-20120212/wav\n",
      "Missing sound files for /home/niklas_sven_hansson/test/extracted_data/ralfherzog-20080204-en53/wav\n",
      "Missing sound files for /home/niklas_sven_hansson/test/extracted_data/benkay-20090111-cc/wav\n",
      "Missing sound files for /home/niklas_sven_hansson/test/extracted_data/ralfherzog-20071107-en16/wav\n"
     ]
    },
    {
     "name": "stderr",
     "output_type": "stream",
     "text": [
      " 68%|██████▊   | 4227/6244 [00:09<00:04, 425.59it/s]"
     ]
    },
    {
     "name": "stdout",
     "output_type": "stream",
     "text": [
      "Missing sound files for /home/niklas_sven_hansson/test/extracted_data/ralfherzog-20080311-en58/wav\n",
      "Missing sound files for /home/niklas_sven_hansson/test/extracted_data/ralfherzog-20071205-en29/wav\n"
     ]
    },
    {
     "name": "stderr",
     "output_type": "stream",
     "text": [
      " 69%|██████▉   | 4316/6244 [00:10<00:04, 425.53it/s]"
     ]
    },
    {
     "name": "stdout",
     "output_type": "stream",
     "text": [
      "Missing sound files for /home/niklas_sven_hansson/test/extracted_data/bjb-20120218/wav\n",
      "Missing sound files for /home/niklas_sven_hansson/test/extracted_data/ralfherzog-20071205-en28/wav\n"
     ]
    },
    {
     "name": "stderr",
     "output_type": "stream",
     "text": [
      " 71%|███████▏  | 4449/6244 [00:10<00:04, 425.87it/s]"
     ]
    },
    {
     "name": "stdout",
     "output_type": "stream",
     "text": [
      "Missing sound files for /home/niklas_sven_hansson/test/extracted_data/ralfherzog-20071001-en10/wav\n",
      "Missing sound files for /home/niklas_sven_hansson/test/extracted_data/ralfherzog-20080204-en52/wav\n",
      "Missing sound files for /home/niklas_sven_hansson/test/extracted_data/ralfherzog-20071211-en36/wav\n",
      "Missing sound files for /home/niklas_sven_hansson/test/extracted_data/ralfherzog-20080317-en63/wav\n"
     ]
    },
    {
     "name": "stderr",
     "output_type": "stream",
     "text": [
      " 73%|███████▎  | 4581/6244 [00:10<00:03, 416.57it/s]"
     ]
    },
    {
     "name": "stdout",
     "output_type": "stream",
     "text": [
      "Missing sound files for /home/niklas_sven_hansson/test/extracted_data/bjb-20120331/wav\n",
      "Missing sound files for /home/niklas_sven_hansson/test/extracted_data/bjb-20120211/wav\n",
      "Missing sound files for /home/niklas_sven_hansson/test/extracted_data/ralfherzog-20071126-en26/wav\n"
     ]
    },
    {
     "name": "stderr",
     "output_type": "stream",
     "text": [
      " 75%|███████▍  | 4669/6244 [00:11<00:03, 416.90it/s]"
     ]
    },
    {
     "name": "stdout",
     "output_type": "stream",
     "text": [
      "Missing label for file /home/niklas_sven_hansson/test/extracted_data/crhylove-10252006/etc/README\n"
     ]
    },
    {
     "name": "stderr",
     "output_type": "stream",
     "text": [
      " 79%|███████▉  | 4937/6244 [00:11<00:03, 418.14it/s]"
     ]
    },
    {
     "name": "stdout",
     "output_type": "stream",
     "text": [
      "Missing sound files for /home/niklas_sven_hansson/test/extracted_data/ralfherzog-20070827_vf24/wav\n",
      "Missing sound files for /home/niklas_sven_hansson/test/extracted_data/ralfherzog-20070903-en2/wav\n"
     ]
    },
    {
     "name": "stderr",
     "output_type": "stream",
     "text": [
      " 81%|████████  | 5069/6244 [00:12<00:02, 418.26it/s]"
     ]
    },
    {
     "name": "stdout",
     "output_type": "stream",
     "text": [
      "Missing label for file /home/niklas_sven_hansson/test/extracted_data/jaiger-12032006-4/etc/README\n",
      "Missing sound files for /home/niklas_sven_hansson/test/extracted_data/LunaTick-20080329-vf1/wav\n"
     ]
    },
    {
     "name": "stderr",
     "output_type": "stream",
     "text": [
      " 85%|████████▌ | 5337/6244 [00:12<00:02, 419.28it/s]"
     ]
    },
    {
     "name": "stdout",
     "output_type": "stream",
     "text": [
      "Missing sound files for /home/niklas_sven_hansson/test/extracted_data/LunaTick-20080410-vf10/wav\n",
      "Missing sound files for /home/niklas_sven_hansson/test/extracted_data/ralfherzog-20071209-en34/wav\n",
      "Missing sound files for /home/niklas_sven_hansson/test/extracted_data/ralfherzog-20070822_vf19/wav\n"
     ]
    },
    {
     "name": "stderr",
     "output_type": "stream",
     "text": [
      " 88%|████████▊ | 5519/6244 [00:13<00:01, 420.16it/s]"
     ]
    },
    {
     "name": "stdout",
     "output_type": "stream",
     "text": [
      "Missing sound files for /home/niklas_sven_hansson/test/extracted_data/ralfherzog-20071123-en19/wav\n",
      "Missing label for file /home/niklas_sven_hansson/test/extracted_data/jaiger-12032006-3/etc/README\n",
      "Missing sound files for /home/niklas_sven_hansson/test/extracted_data/bjb-20120325/wav\n"
     ]
    },
    {
     "name": "stderr",
     "output_type": "stream",
     "text": [
      " 91%|█████████ | 5652/6244 [00:13<00:01, 420.37it/s]"
     ]
    },
    {
     "name": "stdout",
     "output_type": "stream",
     "text": [
      "Missing sound files for /home/niklas_sven_hansson/test/extracted_data/LunaTick-20080410-vf5/wav\n",
      "Missing label for file /home/niklas_sven_hansson/test/extracted_data/cmu_us_bdl_arctic/etc/README\n",
      "Missing sound files for /home/niklas_sven_hansson/test/extracted_data/LunaTick-20080410-vf7/wav\n",
      "Missing sound files for /home/niklas_sven_hansson/test/extracted_data/ralfherzog-20070912-vf26/wav\n"
     ]
    },
    {
     "name": "stderr",
     "output_type": "stream",
     "text": [
      " 92%|█████████▏| 5741/6244 [00:13<00:01, 420.72it/s]"
     ]
    },
    {
     "name": "stdout",
     "output_type": "stream",
     "text": [
      "Missing sound files for /home/niklas_sven_hansson/test/extracted_data/ralfherzog-20070917-en6/wav\n",
      "Missing sound files for /home/niklas_sven_hansson/test/extracted_data/ralfherzog-20080203-en49/wav\n"
     ]
    },
    {
     "name": "stderr",
     "output_type": "stream",
     "text": [
      " 94%|█████████▍| 5877/6244 [00:13<00:00, 421.18it/s]"
     ]
    },
    {
     "name": "stdout",
     "output_type": "stream",
     "text": [
      "Missing sound files for /home/niklas_sven_hansson/test/extracted_data/ralfherzog-20071218-en42/wav\n"
     ]
    },
    {
     "name": "stderr",
     "output_type": "stream",
     "text": [
      " 96%|█████████▋| 6010/6244 [00:14<00:00, 421.38it/s]"
     ]
    },
    {
     "name": "stdout",
     "output_type": "stream",
     "text": [
      "Missing sound files for /home/niklas_sven_hansson/test/extracted_data/bjb-20120124/wav\n",
      "Missing sound files for /home/niklas_sven_hansson/test/extracted_data/ralfherzog-20080309-en56/wav\n",
      "Missing sound files for /home/niklas_sven_hansson/test/extracted_data/bjb-20120409/wav\n",
      "Missing sound files for /home/niklas_sven_hansson/test/extracted_data/ralfherzog-20080203-en50/wav\n",
      "Missing sound files for /home/niklas_sven_hansson/test/extracted_data/ralfherzog-20071214-en38/wav\n",
      "Missing sound files for /home/niklas_sven_hansson/test/extracted_data/ralfherzog-20070831-en1/wav\n"
     ]
    },
    {
     "name": "stderr",
     "output_type": "stream",
     "text": [
      "100%|█████████▉| 6233/6244 [00:14<00:00, 422.03it/s]"
     ]
    },
    {
     "name": "stdout",
     "output_type": "stream",
     "text": [
      "Missing sound files for /home/niklas_sven_hansson/test/extracted_data/ralfherzog-20071126-en24/wav\n",
      "Missing sound files for /home/niklas_sven_hansson/test/extracted_data/bjb-20120310/wav\n",
      "Missing sound files for /home/niklas_sven_hansson/test/extracted_data/ralfherzog-20070830_vf25/wav\n"
     ]
    },
    {
     "name": "stderr",
     "output_type": "stream",
     "text": [
      "100%|██████████| 6244/6244 [00:14<00:00, 421.95it/s]\n"
     ]
    }
   ],
   "source": [
    "def label_and_path(base_folder = \"extracted_data\",output_file=\"data.csv\"):\n",
    "    \"\"\" Function that loops over all the unziped folders and extracts the information\n",
    "    1. Gets the folder where the extracted data is\n",
    "    2. Loops over all the folders in the folder\n",
    "    3. Foreach of the folders the information is extracted also the path to the sound files\n",
    "    4. Stores the information in a pandas dataframe that is then saved as a csv\n",
    "    \"\"\"\n",
    "    dirs= os.listdir(base_folder)\n",
    "    df = pd.DataFrame()\n",
    "    paths = []\n",
    "    age_range = []\n",
    "    language = []\n",
    "    dialect = []\n",
    "    gender = []\n",
    "\n",
    "    for folder in tqdm(dirs):\n",
    "        if not folder.endswith(\".DS_Store\"):\n",
    "            path = os.path.join(base_folder,folder)\n",
    "            path = os.path.join(os.getcwd(),path)\n",
    "            complete_path = os.path.join(path,\"etc/README\")\n",
    "            if os.path.isfile(complete_path):\n",
    "                ans = extract_text_info(complete_path)\n",
    "                sound_path = os.path.join(path,\"wav\")\n",
    "                if os.path.isdir(sound_path):\n",
    "                    for file in os.listdir(sound_path):\n",
    "                        sound_file_path = os.path.join(sound_path,file)\n",
    "                        paths.append(sound_file_path)\n",
    "                        age_range.append(ans['Age_Range'])\n",
    "                        language.append(ans['Language'])\n",
    "                        dialect.append(ans['Dialect'])\n",
    "                        gender.append(ans['Gender'])\n",
    "                        # print(path)\n",
    "                        # I know here that i should go into wav and add the sound files \n",
    "                        # I also know that i should go into etc to get the information about the files\n",
    "                        # DO the magic here\n",
    "                else:\n",
    "                    print(\"Missing sound files for {}\".format(sound_path))\n",
    "            else:\n",
    "                print(\"Missing label for file {}\".format(complete_path))\n",
    "    df['path'] = paths\n",
    "    df['gender'] = gender\n",
    "    df['language'] = language\n",
    "    df['age_range'] = age_range\n",
    "    df['dialect'] = dialect\n",
    "    df.to_csv(output_file)\n",
    "label_and_path()"
   ]
  },
  {
   "cell_type": "code",
   "execution_count": 45,
   "metadata": {},
   "outputs": [
    {
     "data": {
      "text/plain": [
       "(82893, 5)"
      ]
     },
     "execution_count": 45,
     "metadata": {},
     "output_type": "execute_result"
    }
   ],
   "source": [
    "df = pd.read_csv(\"data.csv\",index_col=0)\n",
    "df.shape"
   ]
  },
  {
   "cell_type": "code",
   "execution_count": 53,
   "metadata": {},
   "outputs": [
    {
     "data": {
      "text/html": [
       "<div>\n",
       "<style scoped>\n",
       "    .dataframe tbody tr th:only-of-type {\n",
       "        vertical-align: middle;\n",
       "    }\n",
       "\n",
       "    .dataframe tbody tr th {\n",
       "        vertical-align: top;\n",
       "    }\n",
       "\n",
       "    .dataframe thead th {\n",
       "        text-align: right;\n",
       "    }\n",
       "</style>\n",
       "<table border=\"1\" class=\"dataframe\">\n",
       "  <thead>\n",
       "    <tr style=\"text-align: right;\">\n",
       "      <th></th>\n",
       "      <th>path</th>\n",
       "      <th>gender</th>\n",
       "      <th>language</th>\n",
       "      <th>age_range</th>\n",
       "      <th>dialect</th>\n",
       "    </tr>\n",
       "  </thead>\n",
       "  <tbody>\n",
       "    <tr>\n",
       "      <th>0</th>\n",
       "      <td>/home/niklas_sven_hansson/test/extracted_data/phr0663r-20090922-jqj/wav/a0492.wav</td>\n",
       "      <td>Male</td>\n",
       "      <td>EN</td>\n",
       "      <td>Adult</td>\n",
       "      <td>British English</td>\n",
       "    </tr>\n",
       "    <tr>\n",
       "      <th>1</th>\n",
       "      <td>/home/niklas_sven_hansson/test/extracted_data/phr0663r-20090922-jqj/wav/a0493.wav</td>\n",
       "      <td>Male</td>\n",
       "      <td>EN</td>\n",
       "      <td>Adult</td>\n",
       "      <td>British English</td>\n",
       "    </tr>\n",
       "    <tr>\n",
       "      <th>2</th>\n",
       "      <td>/home/niklas_sven_hansson/test/extracted_data/phr0663r-20090922-jqj/wav/a0487.wav</td>\n",
       "      <td>Male</td>\n",
       "      <td>EN</td>\n",
       "      <td>Adult</td>\n",
       "      <td>British English</td>\n",
       "    </tr>\n",
       "    <tr>\n",
       "      <th>3</th>\n",
       "      <td>/home/niklas_sven_hansson/test/extracted_data/phr0663r-20090922-jqj/wav/a0488.wav</td>\n",
       "      <td>Male</td>\n",
       "      <td>EN</td>\n",
       "      <td>Adult</td>\n",
       "      <td>British English</td>\n",
       "    </tr>\n",
       "    <tr>\n",
       "      <th>4</th>\n",
       "      <td>/home/niklas_sven_hansson/test/extracted_data/phr0663r-20090922-jqj/wav/a0495.wav</td>\n",
       "      <td>Male</td>\n",
       "      <td>EN</td>\n",
       "      <td>Adult</td>\n",
       "      <td>British English</td>\n",
       "    </tr>\n",
       "    <tr>\n",
       "      <th>5</th>\n",
       "      <td>/home/niklas_sven_hansson/test/extracted_data/phr0663r-20090922-jqj/wav/a0490.wav</td>\n",
       "      <td>Male</td>\n",
       "      <td>EN</td>\n",
       "      <td>Adult</td>\n",
       "      <td>British English</td>\n",
       "    </tr>\n",
       "    <tr>\n",
       "      <th>6</th>\n",
       "      <td>/home/niklas_sven_hansson/test/extracted_data/phr0663r-20090922-jqj/wav/a0496.wav</td>\n",
       "      <td>Male</td>\n",
       "      <td>EN</td>\n",
       "      <td>Adult</td>\n",
       "      <td>British English</td>\n",
       "    </tr>\n",
       "    <tr>\n",
       "      <th>7</th>\n",
       "      <td>/home/niklas_sven_hansson/test/extracted_data/phr0663r-20090922-jqj/wav/a0494.wav</td>\n",
       "      <td>Male</td>\n",
       "      <td>EN</td>\n",
       "      <td>Adult</td>\n",
       "      <td>British English</td>\n",
       "    </tr>\n",
       "    <tr>\n",
       "      <th>8</th>\n",
       "      <td>/home/niklas_sven_hansson/test/extracted_data/phr0663r-20090922-jqj/wav/a0489.wav</td>\n",
       "      <td>Male</td>\n",
       "      <td>EN</td>\n",
       "      <td>Adult</td>\n",
       "      <td>British English</td>\n",
       "    </tr>\n",
       "    <tr>\n",
       "      <th>9</th>\n",
       "      <td>/home/niklas_sven_hansson/test/extracted_data/phr0663r-20090922-jqj/wav/a0491.wav</td>\n",
       "      <td>Male</td>\n",
       "      <td>EN</td>\n",
       "      <td>Adult</td>\n",
       "      <td>British English</td>\n",
       "    </tr>\n",
       "    <tr>\n",
       "      <th>10</th>\n",
       "      <td>/home/niklas_sven_hansson/test/extracted_data/k-20090202-dty/wav/a0129.wav</td>\n",
       "      <td>Male</td>\n",
       "      <td>EN</td>\n",
       "      <td>Adult</td>\n",
       "      <td>British English</td>\n",
       "    </tr>\n",
       "    <tr>\n",
       "      <th>11</th>\n",
       "      <td>/home/niklas_sven_hansson/test/extracted_data/k-20090202-dty/wav/a0128.wav</td>\n",
       "      <td>Male</td>\n",
       "      <td>EN</td>\n",
       "      <td>Adult</td>\n",
       "      <td>British English</td>\n",
       "    </tr>\n",
       "    <tr>\n",
       "      <th>12</th>\n",
       "      <td>/home/niklas_sven_hansson/test/extracted_data/k-20090202-dty/wav/a0124.wav</td>\n",
       "      <td>Male</td>\n",
       "      <td>EN</td>\n",
       "      <td>Adult</td>\n",
       "      <td>British English</td>\n",
       "    </tr>\n",
       "    <tr>\n",
       "      <th>13</th>\n",
       "      <td>/home/niklas_sven_hansson/test/extracted_data/k-20090202-dty/wav/a0127.wav</td>\n",
       "      <td>Male</td>\n",
       "      <td>EN</td>\n",
       "      <td>Adult</td>\n",
       "      <td>British English</td>\n",
       "    </tr>\n",
       "    <tr>\n",
       "      <th>14</th>\n",
       "      <td>/home/niklas_sven_hansson/test/extracted_data/k-20090202-dty/wav/a0125.wav</td>\n",
       "      <td>Male</td>\n",
       "      <td>EN</td>\n",
       "      <td>Adult</td>\n",
       "      <td>British English</td>\n",
       "    </tr>\n",
       "    <tr>\n",
       "      <th>15</th>\n",
       "      <td>/home/niklas_sven_hansson/test/extracted_data/k-20090202-dty/wav/a0133.wav</td>\n",
       "      <td>Male</td>\n",
       "      <td>EN</td>\n",
       "      <td>Adult</td>\n",
       "      <td>British English</td>\n",
       "    </tr>\n",
       "    <tr>\n",
       "      <th>16</th>\n",
       "      <td>/home/niklas_sven_hansson/test/extracted_data/k-20090202-dty/wav/a0130.wav</td>\n",
       "      <td>Male</td>\n",
       "      <td>EN</td>\n",
       "      <td>Adult</td>\n",
       "      <td>British English</td>\n",
       "    </tr>\n",
       "    <tr>\n",
       "      <th>17</th>\n",
       "      <td>/home/niklas_sven_hansson/test/extracted_data/k-20090202-dty/wav/a0131.wav</td>\n",
       "      <td>Male</td>\n",
       "      <td>EN</td>\n",
       "      <td>Adult</td>\n",
       "      <td>British English</td>\n",
       "    </tr>\n",
       "    <tr>\n",
       "      <th>18</th>\n",
       "      <td>/home/niklas_sven_hansson/test/extracted_data/k-20090202-dty/wav/a0126.wav</td>\n",
       "      <td>Male</td>\n",
       "      <td>EN</td>\n",
       "      <td>Adult</td>\n",
       "      <td>British English</td>\n",
       "    </tr>\n",
       "    <tr>\n",
       "      <th>19</th>\n",
       "      <td>/home/niklas_sven_hansson/test/extracted_data/k-20090202-dty/wav/a0132.wav</td>\n",
       "      <td>Male</td>\n",
       "      <td>EN</td>\n",
       "      <td>Adult</td>\n",
       "      <td>British English</td>\n",
       "    </tr>\n",
       "    <tr>\n",
       "      <th>20</th>\n",
       "      <td>/home/niklas_sven_hansson/test/extracted_data/anonymous-20090115-lgb/wav/rp-08.wav</td>\n",
       "      <td>Male</td>\n",
       "      <td>EN</td>\n",
       "      <td>Youth</td>\n",
       "      <td>European English</td>\n",
       "    </tr>\n",
       "    <tr>\n",
       "      <th>21</th>\n",
       "      <td>/home/niklas_sven_hansson/test/extracted_data/anonymous-20090115-lgb/wav/rp-04.wav</td>\n",
       "      <td>Male</td>\n",
       "      <td>EN</td>\n",
       "      <td>Youth</td>\n",
       "      <td>European English</td>\n",
       "    </tr>\n",
       "    <tr>\n",
       "      <th>22</th>\n",
       "      <td>/home/niklas_sven_hansson/test/extracted_data/anonymous-20090115-lgb/wav/rp-07.wav</td>\n",
       "      <td>Male</td>\n",
       "      <td>EN</td>\n",
       "      <td>Youth</td>\n",
       "      <td>European English</td>\n",
       "    </tr>\n",
       "    <tr>\n",
       "      <th>23</th>\n",
       "      <td>/home/niklas_sven_hansson/test/extracted_data/anonymous-20090115-lgb/wav/rp-06.wav</td>\n",
       "      <td>Male</td>\n",
       "      <td>EN</td>\n",
       "      <td>Youth</td>\n",
       "      <td>European English</td>\n",
       "    </tr>\n",
       "    <tr>\n",
       "      <th>24</th>\n",
       "      <td>/home/niklas_sven_hansson/test/extracted_data/anonymous-20090115-lgb/wav/rp-03.wav</td>\n",
       "      <td>Male</td>\n",
       "      <td>EN</td>\n",
       "      <td>Youth</td>\n",
       "      <td>European English</td>\n",
       "    </tr>\n",
       "    <tr>\n",
       "      <th>25</th>\n",
       "      <td>/home/niklas_sven_hansson/test/extracted_data/anonymous-20090115-lgb/wav/rp-05.wav</td>\n",
       "      <td>Male</td>\n",
       "      <td>EN</td>\n",
       "      <td>Youth</td>\n",
       "      <td>European English</td>\n",
       "    </tr>\n",
       "    <tr>\n",
       "      <th>26</th>\n",
       "      <td>/home/niklas_sven_hansson/test/extracted_data/anonymous-20090115-lgb/wav/b0538.wav</td>\n",
       "      <td>Male</td>\n",
       "      <td>EN</td>\n",
       "      <td>Youth</td>\n",
       "      <td>European English</td>\n",
       "    </tr>\n",
       "    <tr>\n",
       "      <th>27</th>\n",
       "      <td>/home/niklas_sven_hansson/test/extracted_data/anonymous-20090115-lgb/wav/rp-02.wav</td>\n",
       "      <td>Male</td>\n",
       "      <td>EN</td>\n",
       "      <td>Youth</td>\n",
       "      <td>European English</td>\n",
       "    </tr>\n",
       "    <tr>\n",
       "      <th>28</th>\n",
       "      <td>/home/niklas_sven_hansson/test/extracted_data/anonymous-20090115-lgb/wav/b0539.wav</td>\n",
       "      <td>Male</td>\n",
       "      <td>EN</td>\n",
       "      <td>Youth</td>\n",
       "      <td>European English</td>\n",
       "    </tr>\n",
       "    <tr>\n",
       "      <th>29</th>\n",
       "      <td>/home/niklas_sven_hansson/test/extracted_data/anonymous-20090115-lgb/wav/rp-01.wav</td>\n",
       "      <td>Male</td>\n",
       "      <td>EN</td>\n",
       "      <td>Youth</td>\n",
       "      <td>European English</td>\n",
       "    </tr>\n",
       "    <tr>\n",
       "      <th>...</th>\n",
       "      <td>...</td>\n",
       "      <td>...</td>\n",
       "      <td>...</td>\n",
       "      <td>...</td>\n",
       "      <td>...</td>\n",
       "    </tr>\n",
       "    <tr>\n",
       "      <th>82863</th>\n",
       "      <td>/home/niklas_sven_hansson/test/extracted_data/clarkjc-20120805-qpa/wav/b0455.wav</td>\n",
       "      <td>Male</td>\n",
       "      <td>EN</td>\n",
       "      <td>Adult</td>\n",
       "      <td>American English</td>\n",
       "    </tr>\n",
       "    <tr>\n",
       "      <th>82864</th>\n",
       "      <td>/home/niklas_sven_hansson/test/extracted_data/clarkjc-20120805-qpa/wav/b0449.wav</td>\n",
       "      <td>Male</td>\n",
       "      <td>EN</td>\n",
       "      <td>Adult</td>\n",
       "      <td>American English</td>\n",
       "    </tr>\n",
       "    <tr>\n",
       "      <th>82865</th>\n",
       "      <td>/home/niklas_sven_hansson/test/extracted_data/clarkjc-20120805-qpa/wav/b0448.wav</td>\n",
       "      <td>Male</td>\n",
       "      <td>EN</td>\n",
       "      <td>Adult</td>\n",
       "      <td>American English</td>\n",
       "    </tr>\n",
       "    <tr>\n",
       "      <th>82866</th>\n",
       "      <td>/home/niklas_sven_hansson/test/extracted_data/clarkjc-20120805-qpa/wav/b0453.wav</td>\n",
       "      <td>Male</td>\n",
       "      <td>EN</td>\n",
       "      <td>Adult</td>\n",
       "      <td>American English</td>\n",
       "    </tr>\n",
       "    <tr>\n",
       "      <th>82867</th>\n",
       "      <td>/home/niklas_sven_hansson/test/extracted_data/clarkjc-20120805-qpa/wav/b0450.wav</td>\n",
       "      <td>Male</td>\n",
       "      <td>EN</td>\n",
       "      <td>Adult</td>\n",
       "      <td>American English</td>\n",
       "    </tr>\n",
       "    <tr>\n",
       "      <th>82868</th>\n",
       "      <td>/home/niklas_sven_hansson/test/extracted_data/clarkjc-20120805-qpa/wav/b0451.wav</td>\n",
       "      <td>Male</td>\n",
       "      <td>EN</td>\n",
       "      <td>Adult</td>\n",
       "      <td>American English</td>\n",
       "    </tr>\n",
       "    <tr>\n",
       "      <th>82869</th>\n",
       "      <td>/home/niklas_sven_hansson/test/extracted_data/clarkjc-20120805-qpa/wav/b0447.wav</td>\n",
       "      <td>Male</td>\n",
       "      <td>EN</td>\n",
       "      <td>Adult</td>\n",
       "      <td>American English</td>\n",
       "    </tr>\n",
       "    <tr>\n",
       "      <th>82870</th>\n",
       "      <td>/home/niklas_sven_hansson/test/extracted_data/clarkjc-20120805-qpa/wav/b0454.wav</td>\n",
       "      <td>Male</td>\n",
       "      <td>EN</td>\n",
       "      <td>Adult</td>\n",
       "      <td>American English</td>\n",
       "    </tr>\n",
       "    <tr>\n",
       "      <th>82871</th>\n",
       "      <td>/home/niklas_sven_hansson/test/extracted_data/clarkjc-20120805-qpa/wav/b0456.wav</td>\n",
       "      <td>Male</td>\n",
       "      <td>EN</td>\n",
       "      <td>Adult</td>\n",
       "      <td>American English</td>\n",
       "    </tr>\n",
       "    <tr>\n",
       "      <th>82872</th>\n",
       "      <td>/home/niklas_sven_hansson/test/extracted_data/clarkjc-20120805-qpa/wav/b0452.wav</td>\n",
       "      <td>Male</td>\n",
       "      <td>EN</td>\n",
       "      <td>Adult</td>\n",
       "      <td>American English</td>\n",
       "    </tr>\n",
       "    <tr>\n",
       "      <th>82873</th>\n",
       "      <td>/home/niklas_sven_hansson/test/extracted_data/TheLorax-20100908-kbx/wav/b0416.wav</td>\n",
       "      <td>Male</td>\n",
       "      <td>EN</td>\n",
       "      <td>Adult</td>\n",
       "      <td>American English</td>\n",
       "    </tr>\n",
       "    <tr>\n",
       "      <th>82874</th>\n",
       "      <td>/home/niklas_sven_hansson/test/extracted_data/TheLorax-20100908-kbx/wav/b0415.wav</td>\n",
       "      <td>Male</td>\n",
       "      <td>EN</td>\n",
       "      <td>Adult</td>\n",
       "      <td>American English</td>\n",
       "    </tr>\n",
       "    <tr>\n",
       "      <th>82875</th>\n",
       "      <td>/home/niklas_sven_hansson/test/extracted_data/TheLorax-20100908-kbx/wav/b0408.wav</td>\n",
       "      <td>Male</td>\n",
       "      <td>EN</td>\n",
       "      <td>Adult</td>\n",
       "      <td>American English</td>\n",
       "    </tr>\n",
       "    <tr>\n",
       "      <th>82876</th>\n",
       "      <td>/home/niklas_sven_hansson/test/extracted_data/TheLorax-20100908-kbx/wav/b0412.wav</td>\n",
       "      <td>Male</td>\n",
       "      <td>EN</td>\n",
       "      <td>Adult</td>\n",
       "      <td>American English</td>\n",
       "    </tr>\n",
       "    <tr>\n",
       "      <th>82877</th>\n",
       "      <td>/home/niklas_sven_hansson/test/extracted_data/TheLorax-20100908-kbx/wav/b0409.wav</td>\n",
       "      <td>Male</td>\n",
       "      <td>EN</td>\n",
       "      <td>Adult</td>\n",
       "      <td>American English</td>\n",
       "    </tr>\n",
       "    <tr>\n",
       "      <th>82878</th>\n",
       "      <td>/home/niklas_sven_hansson/test/extracted_data/TheLorax-20100908-kbx/wav/b0417.wav</td>\n",
       "      <td>Male</td>\n",
       "      <td>EN</td>\n",
       "      <td>Adult</td>\n",
       "      <td>American English</td>\n",
       "    </tr>\n",
       "    <tr>\n",
       "      <th>82879</th>\n",
       "      <td>/home/niklas_sven_hansson/test/extracted_data/TheLorax-20100908-kbx/wav/b0414.wav</td>\n",
       "      <td>Male</td>\n",
       "      <td>EN</td>\n",
       "      <td>Adult</td>\n",
       "      <td>American English</td>\n",
       "    </tr>\n",
       "    <tr>\n",
       "      <th>82880</th>\n",
       "      <td>/home/niklas_sven_hansson/test/extracted_data/TheLorax-20100908-kbx/wav/b0413.wav</td>\n",
       "      <td>Male</td>\n",
       "      <td>EN</td>\n",
       "      <td>Adult</td>\n",
       "      <td>American English</td>\n",
       "    </tr>\n",
       "    <tr>\n",
       "      <th>82881</th>\n",
       "      <td>/home/niklas_sven_hansson/test/extracted_data/TheLorax-20100908-kbx/wav/b0411.wav</td>\n",
       "      <td>Male</td>\n",
       "      <td>EN</td>\n",
       "      <td>Adult</td>\n",
       "      <td>American English</td>\n",
       "    </tr>\n",
       "    <tr>\n",
       "      <th>82882</th>\n",
       "      <td>/home/niklas_sven_hansson/test/extracted_data/TheLorax-20100908-kbx/wav/b0410.wav</td>\n",
       "      <td>Male</td>\n",
       "      <td>EN</td>\n",
       "      <td>Adult</td>\n",
       "      <td>American English</td>\n",
       "    </tr>\n",
       "    <tr>\n",
       "      <th>82883</th>\n",
       "      <td>/home/niklas_sven_hansson/test/extracted_data/anonymous-20120221-sji/wav/b0165.wav</td>\n",
       "      <td>Male</td>\n",
       "      <td>EN</td>\n",
       "      <td>Youth</td>\n",
       "      <td>American English</td>\n",
       "    </tr>\n",
       "    <tr>\n",
       "      <th>82884</th>\n",
       "      <td>/home/niklas_sven_hansson/test/extracted_data/anonymous-20120221-sji/wav/b0164.wav</td>\n",
       "      <td>Male</td>\n",
       "      <td>EN</td>\n",
       "      <td>Youth</td>\n",
       "      <td>American English</td>\n",
       "    </tr>\n",
       "    <tr>\n",
       "      <th>82885</th>\n",
       "      <td>/home/niklas_sven_hansson/test/extracted_data/anonymous-20120221-sji/wav/b0166.wav</td>\n",
       "      <td>Male</td>\n",
       "      <td>EN</td>\n",
       "      <td>Youth</td>\n",
       "      <td>American English</td>\n",
       "    </tr>\n",
       "    <tr>\n",
       "      <th>82886</th>\n",
       "      <td>/home/niklas_sven_hansson/test/extracted_data/anonymous-20120221-sji/wav/b0163.wav</td>\n",
       "      <td>Male</td>\n",
       "      <td>EN</td>\n",
       "      <td>Youth</td>\n",
       "      <td>American English</td>\n",
       "    </tr>\n",
       "    <tr>\n",
       "      <th>82887</th>\n",
       "      <td>/home/niklas_sven_hansson/test/extracted_data/anonymous-20120221-sji/wav/b0169.wav</td>\n",
       "      <td>Male</td>\n",
       "      <td>EN</td>\n",
       "      <td>Youth</td>\n",
       "      <td>American English</td>\n",
       "    </tr>\n",
       "    <tr>\n",
       "      <th>82888</th>\n",
       "      <td>/home/niklas_sven_hansson/test/extracted_data/anonymous-20120221-sji/wav/b0171.wav</td>\n",
       "      <td>Male</td>\n",
       "      <td>EN</td>\n",
       "      <td>Youth</td>\n",
       "      <td>American English</td>\n",
       "    </tr>\n",
       "    <tr>\n",
       "      <th>82889</th>\n",
       "      <td>/home/niklas_sven_hansson/test/extracted_data/anonymous-20120221-sji/wav/b0168.wav</td>\n",
       "      <td>Male</td>\n",
       "      <td>EN</td>\n",
       "      <td>Youth</td>\n",
       "      <td>American English</td>\n",
       "    </tr>\n",
       "    <tr>\n",
       "      <th>82890</th>\n",
       "      <td>/home/niklas_sven_hansson/test/extracted_data/anonymous-20120221-sji/wav/b0170.wav</td>\n",
       "      <td>Male</td>\n",
       "      <td>EN</td>\n",
       "      <td>Youth</td>\n",
       "      <td>American English</td>\n",
       "    </tr>\n",
       "    <tr>\n",
       "      <th>82891</th>\n",
       "      <td>/home/niklas_sven_hansson/test/extracted_data/anonymous-20120221-sji/wav/b0167.wav</td>\n",
       "      <td>Male</td>\n",
       "      <td>EN</td>\n",
       "      <td>Youth</td>\n",
       "      <td>American English</td>\n",
       "    </tr>\n",
       "    <tr>\n",
       "      <th>82892</th>\n",
       "      <td>/home/niklas_sven_hansson/test/extracted_data/anonymous-20120221-sji/wav/b0162.wav</td>\n",
       "      <td>Male</td>\n",
       "      <td>EN</td>\n",
       "      <td>Youth</td>\n",
       "      <td>American English</td>\n",
       "    </tr>\n",
       "  </tbody>\n",
       "</table>\n",
       "<p>82893 rows × 5 columns</p>\n",
       "</div>"
      ],
      "text/plain": [
       "                                                                                     path  \\\n",
       "0      /home/niklas_sven_hansson/test/extracted_data/phr0663r-20090922-jqj/wav/a0492.wav    \n",
       "1      /home/niklas_sven_hansson/test/extracted_data/phr0663r-20090922-jqj/wav/a0493.wav    \n",
       "2      /home/niklas_sven_hansson/test/extracted_data/phr0663r-20090922-jqj/wav/a0487.wav    \n",
       "3      /home/niklas_sven_hansson/test/extracted_data/phr0663r-20090922-jqj/wav/a0488.wav    \n",
       "4      /home/niklas_sven_hansson/test/extracted_data/phr0663r-20090922-jqj/wav/a0495.wav    \n",
       "5      /home/niklas_sven_hansson/test/extracted_data/phr0663r-20090922-jqj/wav/a0490.wav    \n",
       "6      /home/niklas_sven_hansson/test/extracted_data/phr0663r-20090922-jqj/wav/a0496.wav    \n",
       "7      /home/niklas_sven_hansson/test/extracted_data/phr0663r-20090922-jqj/wav/a0494.wav    \n",
       "8      /home/niklas_sven_hansson/test/extracted_data/phr0663r-20090922-jqj/wav/a0489.wav    \n",
       "9      /home/niklas_sven_hansson/test/extracted_data/phr0663r-20090922-jqj/wav/a0491.wav    \n",
       "10     /home/niklas_sven_hansson/test/extracted_data/k-20090202-dty/wav/a0129.wav           \n",
       "11     /home/niklas_sven_hansson/test/extracted_data/k-20090202-dty/wav/a0128.wav           \n",
       "12     /home/niklas_sven_hansson/test/extracted_data/k-20090202-dty/wav/a0124.wav           \n",
       "13     /home/niklas_sven_hansson/test/extracted_data/k-20090202-dty/wav/a0127.wav           \n",
       "14     /home/niklas_sven_hansson/test/extracted_data/k-20090202-dty/wav/a0125.wav           \n",
       "15     /home/niklas_sven_hansson/test/extracted_data/k-20090202-dty/wav/a0133.wav           \n",
       "16     /home/niklas_sven_hansson/test/extracted_data/k-20090202-dty/wav/a0130.wav           \n",
       "17     /home/niklas_sven_hansson/test/extracted_data/k-20090202-dty/wav/a0131.wav           \n",
       "18     /home/niklas_sven_hansson/test/extracted_data/k-20090202-dty/wav/a0126.wav           \n",
       "19     /home/niklas_sven_hansson/test/extracted_data/k-20090202-dty/wav/a0132.wav           \n",
       "20     /home/niklas_sven_hansson/test/extracted_data/anonymous-20090115-lgb/wav/rp-08.wav   \n",
       "21     /home/niklas_sven_hansson/test/extracted_data/anonymous-20090115-lgb/wav/rp-04.wav   \n",
       "22     /home/niklas_sven_hansson/test/extracted_data/anonymous-20090115-lgb/wav/rp-07.wav   \n",
       "23     /home/niklas_sven_hansson/test/extracted_data/anonymous-20090115-lgb/wav/rp-06.wav   \n",
       "24     /home/niklas_sven_hansson/test/extracted_data/anonymous-20090115-lgb/wav/rp-03.wav   \n",
       "25     /home/niklas_sven_hansson/test/extracted_data/anonymous-20090115-lgb/wav/rp-05.wav   \n",
       "26     /home/niklas_sven_hansson/test/extracted_data/anonymous-20090115-lgb/wav/b0538.wav   \n",
       "27     /home/niklas_sven_hansson/test/extracted_data/anonymous-20090115-lgb/wav/rp-02.wav   \n",
       "28     /home/niklas_sven_hansson/test/extracted_data/anonymous-20090115-lgb/wav/b0539.wav   \n",
       "29     /home/niklas_sven_hansson/test/extracted_data/anonymous-20090115-lgb/wav/rp-01.wav   \n",
       "...                                                                                   ...   \n",
       "82863  /home/niklas_sven_hansson/test/extracted_data/clarkjc-20120805-qpa/wav/b0455.wav     \n",
       "82864  /home/niklas_sven_hansson/test/extracted_data/clarkjc-20120805-qpa/wav/b0449.wav     \n",
       "82865  /home/niklas_sven_hansson/test/extracted_data/clarkjc-20120805-qpa/wav/b0448.wav     \n",
       "82866  /home/niklas_sven_hansson/test/extracted_data/clarkjc-20120805-qpa/wav/b0453.wav     \n",
       "82867  /home/niklas_sven_hansson/test/extracted_data/clarkjc-20120805-qpa/wav/b0450.wav     \n",
       "82868  /home/niklas_sven_hansson/test/extracted_data/clarkjc-20120805-qpa/wav/b0451.wav     \n",
       "82869  /home/niklas_sven_hansson/test/extracted_data/clarkjc-20120805-qpa/wav/b0447.wav     \n",
       "82870  /home/niklas_sven_hansson/test/extracted_data/clarkjc-20120805-qpa/wav/b0454.wav     \n",
       "82871  /home/niklas_sven_hansson/test/extracted_data/clarkjc-20120805-qpa/wav/b0456.wav     \n",
       "82872  /home/niklas_sven_hansson/test/extracted_data/clarkjc-20120805-qpa/wav/b0452.wav     \n",
       "82873  /home/niklas_sven_hansson/test/extracted_data/TheLorax-20100908-kbx/wav/b0416.wav    \n",
       "82874  /home/niklas_sven_hansson/test/extracted_data/TheLorax-20100908-kbx/wav/b0415.wav    \n",
       "82875  /home/niklas_sven_hansson/test/extracted_data/TheLorax-20100908-kbx/wav/b0408.wav    \n",
       "82876  /home/niklas_sven_hansson/test/extracted_data/TheLorax-20100908-kbx/wav/b0412.wav    \n",
       "82877  /home/niklas_sven_hansson/test/extracted_data/TheLorax-20100908-kbx/wav/b0409.wav    \n",
       "82878  /home/niklas_sven_hansson/test/extracted_data/TheLorax-20100908-kbx/wav/b0417.wav    \n",
       "82879  /home/niklas_sven_hansson/test/extracted_data/TheLorax-20100908-kbx/wav/b0414.wav    \n",
       "82880  /home/niklas_sven_hansson/test/extracted_data/TheLorax-20100908-kbx/wav/b0413.wav    \n",
       "82881  /home/niklas_sven_hansson/test/extracted_data/TheLorax-20100908-kbx/wav/b0411.wav    \n",
       "82882  /home/niklas_sven_hansson/test/extracted_data/TheLorax-20100908-kbx/wav/b0410.wav    \n",
       "82883  /home/niklas_sven_hansson/test/extracted_data/anonymous-20120221-sji/wav/b0165.wav   \n",
       "82884  /home/niklas_sven_hansson/test/extracted_data/anonymous-20120221-sji/wav/b0164.wav   \n",
       "82885  /home/niklas_sven_hansson/test/extracted_data/anonymous-20120221-sji/wav/b0166.wav   \n",
       "82886  /home/niklas_sven_hansson/test/extracted_data/anonymous-20120221-sji/wav/b0163.wav   \n",
       "82887  /home/niklas_sven_hansson/test/extracted_data/anonymous-20120221-sji/wav/b0169.wav   \n",
       "82888  /home/niklas_sven_hansson/test/extracted_data/anonymous-20120221-sji/wav/b0171.wav   \n",
       "82889  /home/niklas_sven_hansson/test/extracted_data/anonymous-20120221-sji/wav/b0168.wav   \n",
       "82890  /home/niklas_sven_hansson/test/extracted_data/anonymous-20120221-sji/wav/b0170.wav   \n",
       "82891  /home/niklas_sven_hansson/test/extracted_data/anonymous-20120221-sji/wav/b0167.wav   \n",
       "82892  /home/niklas_sven_hansson/test/extracted_data/anonymous-20120221-sji/wav/b0162.wav   \n",
       "\n",
       "      gender language age_range           dialect  \n",
       "0      Male   EN       Adult     British English   \n",
       "1      Male   EN       Adult     British English   \n",
       "2      Male   EN       Adult     British English   \n",
       "3      Male   EN       Adult     British English   \n",
       "4      Male   EN       Adult     British English   \n",
       "5      Male   EN       Adult     British English   \n",
       "6      Male   EN       Adult     British English   \n",
       "7      Male   EN       Adult     British English   \n",
       "8      Male   EN       Adult     British English   \n",
       "9      Male   EN       Adult     British English   \n",
       "10     Male   EN       Adult     British English   \n",
       "11     Male   EN       Adult     British English   \n",
       "12     Male   EN       Adult     British English   \n",
       "13     Male   EN       Adult     British English   \n",
       "14     Male   EN       Adult     British English   \n",
       "15     Male   EN       Adult     British English   \n",
       "16     Male   EN       Adult     British English   \n",
       "17     Male   EN       Adult     British English   \n",
       "18     Male   EN       Adult     British English   \n",
       "19     Male   EN       Adult     British English   \n",
       "20     Male   EN       Youth     European English  \n",
       "21     Male   EN       Youth     European English  \n",
       "22     Male   EN       Youth     European English  \n",
       "23     Male   EN       Youth     European English  \n",
       "24     Male   EN       Youth     European English  \n",
       "25     Male   EN       Youth     European English  \n",
       "26     Male   EN       Youth     European English  \n",
       "27     Male   EN       Youth     European English  \n",
       "28     Male   EN       Youth     European English  \n",
       "29     Male   EN       Youth     European English  \n",
       "...     ...   ..         ...                  ...  \n",
       "82863  Male   EN       Adult     American English  \n",
       "82864  Male   EN       Adult     American English  \n",
       "82865  Male   EN       Adult     American English  \n",
       "82866  Male   EN       Adult     American English  \n",
       "82867  Male   EN       Adult     American English  \n",
       "82868  Male   EN       Adult     American English  \n",
       "82869  Male   EN       Adult     American English  \n",
       "82870  Male   EN       Adult     American English  \n",
       "82871  Male   EN       Adult     American English  \n",
       "82872  Male   EN       Adult     American English  \n",
       "82873  Male   EN       Adult     American English  \n",
       "82874  Male   EN       Adult     American English  \n",
       "82875  Male   EN       Adult     American English  \n",
       "82876  Male   EN       Adult     American English  \n",
       "82877  Male   EN       Adult     American English  \n",
       "82878  Male   EN       Adult     American English  \n",
       "82879  Male   EN       Adult     American English  \n",
       "82880  Male   EN       Adult     American English  \n",
       "82881  Male   EN       Adult     American English  \n",
       "82882  Male   EN       Adult     American English  \n",
       "82883  Male   EN       Youth     American English  \n",
       "82884  Male   EN       Youth     American English  \n",
       "82885  Male   EN       Youth     American English  \n",
       "82886  Male   EN       Youth     American English  \n",
       "82887  Male   EN       Youth     American English  \n",
       "82888  Male   EN       Youth     American English  \n",
       "82889  Male   EN       Youth     American English  \n",
       "82890  Male   EN       Youth     American English  \n",
       "82891  Male   EN       Youth     American English  \n",
       "82892  Male   EN       Youth     American English  \n",
       "\n",
       "[82893 rows x 5 columns]"
      ]
     },
     "execution_count": 53,
     "metadata": {},
     "output_type": "execute_result"
    }
   ],
   "source": [
    "df"
   ]
  },
  {
   "cell_type": "markdown",
   "metadata": {},
   "source": [
    "## Check the file information"
   ]
  },
  {
   "cell_type": "code",
   "execution_count": 47,
   "metadata": {},
   "outputs": [
    {
     "data": {
      "text/plain": [
       "(59027, 5)"
      ]
     },
     "execution_count": 47,
     "metadata": {},
     "output_type": "execute_result"
    }
   ],
   "source": [
    "# Observations where the language is stated to be english\n",
    "df[df[\"language\"]==\"EN\"].shape"
   ]
  },
  {
   "cell_type": "code",
   "execution_count": 49,
   "metadata": {},
   "outputs": [
    {
     "data": {
      "text/plain": [
       "EN    59027\n",
       "Name: language, dtype: int64"
      ]
     },
     "execution_count": 49,
     "metadata": {},
     "output_type": "execute_result"
    }
   ],
   "source": [
    "# Count of the unique values of english\n",
    "df['language'].value_counts()"
   ]
  },
  {
   "cell_type": "code",
   "execution_count": 75,
   "metadata": {},
   "outputs": [
    {
     "data": {
      "text/plain": [
       "American English      32187\n",
       "British English       9167 \n",
       "European English      8320 \n",
       "Other                 4203 \n",
       "Canadian English      3128 \n",
       "Indian English        2645 \n",
       "Australian English    2360 \n",
       "General American      1822 \n",
       "New Zealand           819  \n",
       "South African         783  \n",
       "other                 628  \n",
       "New York              551  \n",
       "Irish English         329  \n",
       "unknown               173  \n",
       "Please Select         158  \n",
       "Northern Irish        155  \n",
       "Mid                   150  \n",
       "California            94   \n",
       "British Received      70   \n",
       "West                  64   \n",
       "european english      49   \n",
       "English English       39   \n",
       "Western               31   \n",
       "European              24   \n",
       "non                   10   \n",
       "Westdeutschland       10   \n",
       "Asian accent          10   \n",
       "America English       10   \n",
       "Español España        10   \n",
       "Name: dialect, dtype: int64"
      ]
     },
     "execution_count": 75,
     "metadata": {},
     "output_type": "execute_result"
    }
   ],
   "source": [
    "# Sum of all dialects\n",
    "df['dialect'].value_counts()"
   ]
  },
  {
   "cell_type": "code",
   "execution_count": 67,
   "metadata": {},
   "outputs": [
    {
     "data": {
      "text/plain": [
       "Male         52760\n",
       "male         6837 \n",
       "Female       3824 \n",
       "unknown      193  \n",
       "Please       189  \n",
       "female       157  \n",
       "adult        10   \n",
       "make         10   \n",
       "Masculino    10   \n",
       "Weiblich     10   \n",
       "Name: gender, dtype: int64"
      ]
     },
     "execution_count": 67,
     "metadata": {},
     "output_type": "execute_result"
    }
   ],
   "source": [
    "df[\"gender\"].value_counts()"
   ]
  },
  {
   "cell_type": "code",
   "execution_count": 70,
   "metadata": {},
   "outputs": [
    {
     "data": {
      "text/plain": [
       "63618"
      ]
     },
     "execution_count": 70,
     "metadata": {},
     "output_type": "execute_result"
    }
   ],
   "source": [
    "sum(df[\"gender\"].value_counts())-189-193"
   ]
  },
  {
   "cell_type": "markdown",
   "metadata": {},
   "source": [
    "## Only select the once that actually have a label of interest"
   ]
  },
  {
   "cell_type": "code",
   "execution_count": 86,
   "metadata": {},
   "outputs": [
    {
     "data": {
      "text/plain": [
       "(58615, 5)"
      ]
     },
     "execution_count": 86,
     "metadata": {},
     "output_type": "execute_result"
    }
   ],
   "source": [
    "test = df[((df[\"gender\"] =='Male' )|(df[\"gender\"]=='male')|\n",
    "          (df[\"gender\"]=='Female')|(df[\"gender\"]=='female'))  & (df[\"language\"]==\"EN\")]\n",
    "test.shape"
   ]
  },
  {
   "cell_type": "markdown",
   "metadata": {},
   "source": [
    "## Validat the paths"
   ]
  },
  {
   "cell_type": "code",
   "execution_count": 65,
   "metadata": {},
   "outputs": [
    {
     "name": "stderr",
     "output_type": "stream",
     "text": [
      "100%|██████████| 82893/82893 [00:00<00:00, 226527.18it/s]\n"
     ]
    }
   ],
   "source": [
    "def test_files_exsist(df=None):\n",
    "    for file in tqdm(df['path']):\n",
    "        if not os.path.isfile(file):\n",
    "            warning.warn(\"This path is wrong {}\".format(file))\n",
    "\n",
    "def test_files_unique():\n",
    "    if not df.shape[0]==len(df['path'].unique()):\n",
    "        print(\"Some rows are duplicates\")\n",
    "test_files_exsist(df)\n",
    "test_files_unique()"
   ]
  },
  {
   "cell_type": "code",
   "execution_count": 87,
   "metadata": {},
   "outputs": [
    {
     "name": "stdout",
     "output_type": "stream",
     "text": [
      "data\t  extracted_data  ouput.csv\t     sound_feature.R\r\n",
      "data.csv  extract.yaml\t  sound_feature_2.R  Untitled.ipynb\r\n"
     ]
    }
   ],
   "source": []
  },
  {
   "cell_type": "code",
   "execution_count": null,
   "metadata": {},
   "outputs": [],
   "source": []
  }
 ],
 "metadata": {
  "kernelspec": {
   "display_name": "Python 3",
   "language": "python",
   "name": "python3"
  },
  "language_info": {
   "codemirror_mode": {
    "name": "ipython",
    "version": 3
   },
   "file_extension": ".py",
   "mimetype": "text/x-python",
   "name": "python",
   "nbconvert_exporter": "python",
   "pygments_lexer": "ipython3",
   "version": "3.6.6"
  }
 },
 "nbformat": 4,
 "nbformat_minor": 2
}
